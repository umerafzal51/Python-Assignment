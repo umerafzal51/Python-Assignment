{
 "cells": [
  {
   "cell_type": "code",
   "execution_count": 25,
   "metadata": {
    "scrolled": true
   },
   "outputs": [
    {
     "name": "stdout",
     "output_type": "stream",
     "text": [
      "Enter marks of the first subject:90\n",
      "Enter marks of the second subject:91\n",
      "Enter marks of the third subject:95\n",
      "Enter marks of the fourth subject:97\n",
      "Enter marks of the fifth subject:92\n",
      "A\n"
     ]
    }
   ],
   "source": [
    "sub1 = int(input(\"Enter marks of the first subject:\"));\n",
    "sub2 = int(input(\"Enter marks of the second subject:\"));\n",
    "sub3 = int(input(\"Enter marks of the third subject:\"));\n",
    "sub4 = int(input(\"Enter marks of the fourth subject:\"));\n",
    "sub5 = int(input(\"Enter marks of the fifth subject:\"));\n",
    "avg =(sub1+sub2+sub3+sub4+sub5)/5\n",
    "if(avg>90):\n",
    " print(\"A\")\n",
    "elif(avg>80):\n",
    " print(\"B\")\n",
    "elif(avg>70):\n",
    " print(\"C\")\n",
    "elif(avg>60):\n",
    " print(\"D\")\n",
    "else:\n",
    " print(\"Fail\")    \n",
    "\n"
   ]
  },
  {
   "cell_type": "code",
   "execution_count": 2,
   "metadata": {},
   "outputs": [
    {
     "name": "stdout",
     "output_type": "stream",
     "text": [
      "enter your no8\n",
      "even no\n"
     ]
    }
   ],
   "source": [
    "number = int(input(\"enter your no\"));\n",
    "remainder = number%2\n",
    "if(remainder == 0):\n",
    " print(\"even no\")    \n",
    "else:\n",
    " print(\"odd no\")"
   ]
  },
  {
   "cell_type": "code",
   "execution_count": 5,
   "metadata": {},
   "outputs": [
    {
     "name": "stdout",
     "output_type": "stream",
     "text": [
      "3\n"
     ]
    }
   ],
   "source": [
    "thislist = [\"apple\", \"banana\", \"cherry\"]\n",
    "print(len(thislist))\n",
    "\n"
   ]
  },
  {
   "cell_type": "code",
   "execution_count": 32,
   "metadata": {},
   "outputs": [
    {
     "name": "stdout",
     "output_type": "stream",
     "text": [
      "Sum of all elements in given list:  75\n"
     ]
    }
   ],
   "source": [
    "list1 = [11, 6, 17, 18, 23] \n",
    "  \n",
    "total = sum(list1) \n",
    "  \n",
    "print(\"Sum of all elements in given list: \", total) "
   ]
  },
  {
   "cell_type": "code",
   "execution_count": 33,
   "metadata": {},
   "outputs": [
    {
     "name": "stdout",
     "output_type": "stream",
     "text": [
      "1\n",
      "1\n",
      "2\n",
      "3\n"
     ]
    }
   ],
   "source": [
    "a = [1,1,2,3,5,8,13,21,34,55,89]\n",
    "for i in a:\n",
    "   if i < 5:\n",
    "      print(i)  \n"
   ]
  },
  {
   "cell_type": "code",
   "execution_count": 35,
   "metadata": {},
   "outputs": [
    {
     "name": "stdout",
     "output_type": "stream",
     "text": [
      "Largest element is: 99\n"
     ]
    }
   ],
   "source": [
    "\n",
    "list1 = [10, 20, 4, 45, 99] \n",
    "  \n",
    "print(\"Largest element is:\", max(list1)) \n"
   ]
  },
  {
   "cell_type": "code",
   "execution_count": null,
   "metadata": {},
   "outputs": [],
   "source": [
    "\n"
   ]
  },
  {
   "cell_type": "code",
   "execution_count": null,
   "metadata": {},
   "outputs": [],
   "source": []
  }
 ],
 "metadata": {
  "kernelspec": {
   "display_name": "Python 3",
   "language": "python",
   "name": "python3"
  },
  "language_info": {
   "codemirror_mode": {
    "name": "ipython",
    "version": 3
   },
   "file_extension": ".py",
   "mimetype": "text/x-python",
   "name": "python",
   "nbconvert_exporter": "python",
   "pygments_lexer": "ipython3",
   "version": "3.7.4"
  }
 },
 "nbformat": 4,
 "nbformat_minor": 2
}
